{
 "cells": [
  {
   "cell_type": "markdown",
   "metadata": {},
   "source": [
    "<h1 style=\"text-align:center\">Report </h1>\n",
    "<h4 style=\"text-align:right\">Yilun Chen, Huiyu Jiang, Jiyun Chen </h4>\n",
    " \n",
    "## [Introduction]\n",
    "### 1. Motivation:\n",
    "In modern society, people begin to pursue healthier lifestyles and focus on personal health. As a measure of obesity, body fat percentage plays an important role in various health outcomes.Our project aims at building a model a simple, robust, accurate and precise“rule-of-thumb” method to estimate percentage of body fat based on the 252-men data set, meaning that our model only predicts the male.\n",
    "<font color=red>clear motivation有了，thesis statement？</font>\n",
    "\n",
    "### 2. Background of body fat and the data set\n",
    "#### [About body fat]\n",
    "From the achievement of previous studies, we can get the formula for estimating the body fat B(%)\n",
    "<center>Percentage of Body Fat $(i.e. 100 \\times B) = \\frac{495}{D} - 450$, D = Body Density $(gm/cm^{3})$ (1)</center>\n",
    "\n",
    "#### [About the data set]\n",
    "Our data is based on 252 men and has 14 independent variables: Age(years),Weight(lbs),Height(inches),Adiposity(bmi),Neck circumference(cm),Chest circumference(cm),Abdomen circumference(cm),Hip circumference(cm),Thigh circumference(cm),Knee circumference(cm),Ankle circumference(cm),Biceps (extended) circumference(cm),Forearm circumference(cm),Wrist circumference(cm); one dependent variables:Body fat B(%); and Density, here, we think it is meaningless to our model.\n",
    "<font color=red>Bakcground information about the data</font>\n",
    "\n",
    "## [Data Analysis]\n",
    "### 1. Model selection\n",
    "\n",
    "<img src=\"./Image/Linearnity.png\",width=450,height=450>\n",
    "![(a)](https://github.com/Jianghuiyu/STAT628M1/blob/master/report/Image1/182nd.png)\n",
    "\n",
    "From the graphs, we can find a linear relationship between BODYFAT and the rest variables(except HEIGHT); AGE has a weak linear relationship with BODYFAT and the other variables, like ABDOMEN and WEIGHT, have strong linear relationships with BODYFAT. Thus, we choose the linear regression model to estimate the body fat.\n",
    "\n",
    "**Our model assumption**: <font color=red>确认一下</font>\n",
    "\n",
    "<font color=red>Motivation for the model used and statement of the model</font>\n",
    "\n",
    "### 2. Data preprocessing\n",
    "#### 2.1 Unreasonable record deletion\n",
    "We notice that the 182nd has bodyfat=0;and we calculate the body fat with the density formula (1) and the result is negative. Thus, we regard this record as one unreasonable observarion and delete it.\n",
    "\n",
    "<img src=\"./Image/182nd.png\">\n",
    "\n",
    "<center>BODYFAT(182nd)=495/1.1089-450=-3.612</center>"
   ]
  },
  {
   "cell_type": "markdown",
   "metadata": {},
   "source": [
    "#### 2.2. Outlier detection\n",
    "Each time we throw one sample based on the cook distance until the value of cook distance is not greater than 2p/n.\n",
    "First time we drop the 42nd record,\n",
    "\n",
    "<font color=red>data[42,]格式问题</font>\n",
    "\n",
    "<font color=red>去42图</font>\n",
    "\n",
    "Interpretation: the 42nd observation has the biggest cook distance value and he is really short, thus we delete this record.\n",
    "Second time we drop the 39th record,\n",
    "\n",
    "<font color=red>data[39,]格式问题</font>\n",
    "\n",
    "<font color=red>去39图</font>\n",
    "\n",
    "Interpretation: the 39th observation has the biggest cook distance value and he is really short, thus we delete this record.\n",
    "After droping the 42th and 39th sample, the database looks good for us.\n",
    "\n",
    "<font color=red>最后cookdistance图</font>"
   ]
  },
  {
   "cell_type": "markdown",
   "metadata": {},
   "source": [
    "### 3. Variable selection\n",
    "First we use forward AIC standard to select our variables.\n",
    "<font color=red>标准换吗？模型</font>\n",
    "\n",
    "<font color=red>线性的图</font>"
   ]
  },
  {
   "cell_type": "markdown",
   "metadata": {},
   "source": [
    "Since we want our model as simple as possible and notice that （总感觉要加点什么） we cannot directly use linear model trained in step-wise model. Next, the elastic net model is fitted and we select the variables by the regularization path plot. The hyper-parameter alpha is choosen by grid search. Finally, we pick the weight and abdomen. （要给图和表吧？）\n",
    "### 4.Model fitting\n",
    "模型summary\n",
    "### 5.Diagnose\n",
    "## [Conclusion]\n",
    "\n",
    "### 1.Model\n",
    "### 2.Advantage and Disadvantage\n",
    "### 3.Statements"
   ]
  },
  {
   "cell_type": "markdown",
   "metadata": {},
   "source": [
    "Since we like our model as simple as possible, we cannot directly use linear model trained in step-wise model. Next, the elastic net model is fitted and we select the variables by the regularization path plot. The hyper-parameter alpha is choosen by grid search. Finally, we pick the weight and abdomen. \n",
    "### model fitting\n",
    "模型summary\n",
    "## Model\n",
    "The final model is \n",
    "公式\n",
    "For the sake of simplicity, we simple our linear model as\n",
    "公式,说明单位\n",
    "## Diagnose\n",
    "残差 QQplot VIF\n",
    "## Advantage and Disadvantage\n",
    "AD：1.easy to implement 2.not need a lot of information. DA：1.rough estimation.\n",
    "## Conclusion\n",
    "1.Abdomen and weight can explain the badyfat of men partly.\n",
    "2.When fix the abdomen, the men with more weight will more likely to have lower bodyfat.\n",
    "\n"
   ]
  }
 ],
 "metadata": {
  "kernelspec": {
   "display_name": "R",
   "language": "R",
   "name": "ir"
  },
  "language_info": {
   "codemirror_mode": "r",
   "file_extension": ".r",
   "mimetype": "text/x-r-source",
   "name": "R",
   "pygments_lexer": "r",
   "version": "3.4.2"
  }
 },
 "nbformat": 4,
 "nbformat_minor": 2
}
