{
 "cells": [
  {
   "cell_type": "markdown",
   "metadata": {},
   "source": [
    "# Report\n",
    "## Data Analyse\n",
    "### data preprocessing\n",
    "One of the sample (182th) have zero bodyfat and we fail to use the density to transfer it into a proper value, so we throw away that sample.\n",
    "### outlier detection\n",
    "Each time we throw one sample based on the cook distance and after droping the 42th and 39th sample, the database looks good for us.\n",
    "### variable selection"
   ]
  },
  {
   "cell_type": "markdown",
   "metadata": {},
   "source": [
    "加入图片说明前向后向模型结果\n",
    "说明……"
   ]
  },
  {
   "cell_type": "markdown",
   "metadata": {},
   "source": [
    "Since we like our model as simple as possible, we cannot diractly use linear model trained in step-wise model. Next, the elastic net model is fitted and we select the variables by the regularization path plot. The hyper-parameter alpha is choosen by grid search. Finally, we pick the weight and abdomen. \n",
    "### model fitting\n",
    "模型summary\n",
    "## Model\n",
    "The final model is \n",
    "公式\n",
    "For the sake of simplicity, we simple our linear model as\n",
    "公式,说明单位\n",
    "## Diagnose\n",
    "残差 QQplot VIF\n",
    "## Advantage and Disadvantage\n",
    "AD：1.easy to implement 2.not need a lot of information. DA：1.rough estimation.\n",
    "## Conclusion\n",
    "1.Abdomen and weight can explain the badyfat of men partly.\n",
    "2.When fix the abdomen, the men with more weight will more likely to have lower bodyfat.\n",
    "\n"
   ]
  },
  {
   "cell_type": "code",
   "execution_count": null,
   "metadata": {
    "collapsed": true
   },
   "outputs": [],
   "source": []
  },
  {
   "cell_type": "code",
   "execution_count": null,
   "metadata": {
    "collapsed": true
   },
   "outputs": [],
   "source": []
  }
 ],
 "metadata": {
  "kernelspec": {
   "display_name": "R",
   "language": "R",
   "name": "ir"
  },
  "language_info": {
   "codemirror_mode": "r",
   "file_extension": ".r",
   "mimetype": "text/x-r-source",
   "name": "R",
   "pygments_lexer": "r",
   "version": "3.4.2"
  }
 },
 "nbformat": 4,
 "nbformat_minor": 2
}
